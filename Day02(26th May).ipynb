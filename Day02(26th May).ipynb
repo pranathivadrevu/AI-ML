{
 "cells": [
  {
   "cell_type": "markdown",
   "metadata": {},
   "source": [
    "#### Compute the total number of unique apps from the dataset\n"
   ]
  },
  {
   "cell_type": "code",
   "execution_count": 38,
   "metadata": {},
   "outputs": [
    {
     "name": "stdout",
     "output_type": "stream",
     "text": [
      "7195\n"
     ]
    },
    {
     "data": {
      "text/plain": [
       "array(['! OH Fantastic Free Kick + Kick Wall Challenge',\n",
       "       '\"Burn your fat with me!!\"', '\"HOOK\"', ..., 'ＣＲスーパー海物語ＩＮ沖縄４',\n",
       "       'Ｘ:15秒の人気 アクション ゲーム', 'ｗｗｗ'], dtype='<U232')"
      ]
     },
     "execution_count": 38,
     "metadata": {},
     "output_type": "execute_result"
    }
   ],
   "source": [
    "import numpy as np\n",
    "import pandas as pd\n",
    "def uniqueapps(filename):\n",
    "    df=pd.read_csv(filename)\n",
    "    \n",
    "    category=[]\n",
    "    genre,cf=[],[]\n",
    "    m=0\n",
    "    for i in df.values:\n",
    "#         print(\"valies\")\n",
    "#         print(i[2])\n",
    "        genre.append(i[2])\n",
    "    category= np.unique(genre)\n",
    "    count=len(category)\n",
    "    print(count)\n",
    "    return category\n",
    "uniqueapps('DataFiles/AppleStore.csv')\n",
    "\n",
    "\n",
    "\n",
    "\n"
   ]
  },
  {
   "cell_type": "markdown",
   "metadata": {},
   "source": [
    "#### Print the Top 10 apps along with their rating based on the number of downloads(rating_count_tot)"
   ]
  },
  {
   "cell_type": "code",
   "execution_count": 62,
   "metadata": {
    "scrolled": false
   },
   "outputs": [
    {
     "name": "stdout",
     "output_type": "stream",
     "text": [
      "[2974676 2161558 2130805 1724546 1126879 1061624  985920  961794  878563\n",
      "  824451]\n",
      "Facebook -> 2974676\n",
      "Instagram -> 2161558\n",
      "Clash of Clans -> 2130805\n",
      "Temple Run -> 1724546\n",
      "Pandora - Music & Radio -> 1126879\n",
      "Pinterest -> 1061624\n",
      "Bible -> 985920\n",
      "Candy Crush Saga -> 961794\n",
      "Spotify Music -> 878563\n",
      "Angry Birds -> 824451\n"
     ]
    }
   ],
   "source": [
    "import numpy as np\n",
    "import pandas as pd\n",
    "def topapps(filename):\n",
    "    df=pd.read_csv(filename)\n",
    "    apps,sortapps,sorts,top=[],[],[],[]\n",
    "    for row in df.values:\n",
    "        apps.append(row[6])\n",
    "    sortapps=np.sort(apps)\n",
    "    sorts=sortapps[len(sortapps):len(sortapps)-11:-1]\n",
    "    print(sorts)\n",
    "    \n",
    "    for i in range(0,len(sorts)):\n",
    "        for row in df.values:\n",
    "            if(sorts[i]==row[6]):\n",
    "                \n",
    "                print(row[2],'->',sorts[i])\n",
    "\n",
    "topapps('DataFiles/AppleStore.csv')   \n",
    "\n",
    "\n",
    "# np.equal([0, 1, 3], np.arange(3))"
   ]
  },
  {
   "cell_type": "markdown",
   "metadata": {},
   "source": [
    "#### Categorise the dataset based on content rating into the following\n",
    "* Number of apps with content rating 4+\n",
    "* Number of apps with content rating 9+\n",
    "* Number of apps with content rating 12+\n",
    "* Number of apps with content rating 17+"
   ]
  },
  {
   "cell_type": "code",
   "execution_count": 65,
   "metadata": {},
   "outputs": [
    {
     "name": "stdout",
     "output_type": "stream",
     "text": [
      "Number of apps with content rating 4+ 4433\n",
      "Number of apps with content rating 9+ 987\n",
      "Number of apps with content rating 12+ 1155\n",
      "Number of apps with content rating 17+ 622\n"
     ]
    }
   ],
   "source": [
    "import pandas as pd\n",
    "def contentrating(filename):\n",
    "    df=pd.read_csv(filename)\n",
    "    count4=0\n",
    "    count9=0\n",
    "    count12=0\n",
    "    count17=0\n",
    "    for row in df.values:\n",
    "        if(row[11]=='4+'):\n",
    "            count4=count4+1\n",
    "        elif(row[11]=='9+'):\n",
    "            count9=count9+1\n",
    "        elif(row[11]=='12+'):\n",
    "            count12=count12+1\n",
    "        elif(row[11]=='17+'):\n",
    "            count17=count17+1\n",
    "\n",
    "    print(\"Number of apps with content rating 4+\",count4)\n",
    "    print(\"Number of apps with content rating 9+\",count9)\n",
    "    print(\"Number of apps with content rating 12+\",count12)\n",
    "    print(\"Number of apps with content rating 17+\",count17)\n",
    "\n",
    "contentrating('DataFiles/AppleStore.csv')   \n"
   ]
  },
  {
   "cell_type": "code",
   "execution_count": null,
   "metadata": {},
   "outputs": [],
   "source": []
  }
 ],
 "metadata": {
  "kernelspec": {
   "display_name": "Python 3",
   "language": "python",
   "name": "python3"
  },
  "language_info": {
   "codemirror_mode": {
    "name": "ipython",
    "version": 3
   },
   "file_extension": ".py",
   "mimetype": "text/x-python",
   "name": "python",
   "nbconvert_exporter": "python",
   "pygments_lexer": "ipython3",
   "version": "3.7.3"
  }
 },
 "nbformat": 4,
 "nbformat_minor": 2
}
