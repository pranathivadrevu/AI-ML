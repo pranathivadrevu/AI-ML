{
 "cells": [
  {
   "cell_type": "code",
   "execution_count": null,
   "metadata": {},
   "outputs": [],
   "source": [
    "Machine Learning: \n",
    "Based on historical data we predict the unseen data\n",
    "categorical yes or no\n",
    "we train machine to predict the future"
   ]
  },
  {
   "cell_type": "code",
   "execution_count": null,
   "metadata": {},
   "outputs": [],
   "source": [
    "Data Cleaning :\n",
    "to create model we provide with some pre processing steps\n",
    "billions of records\n",
    "inconsistency\n",
    "noisy data\n",
    "equations cant be used in categorivsl data we replace wd dummy vaiables\n"
   ]
  },
  {
   "cell_type": "code",
   "execution_count": null,
   "metadata": {},
   "outputs": [],
   "source": [
    "pandas used for data analyisis concat merge \n",
    "numpy used for numericaland statistical \n",
    "matlog for data visulaization\n",
    "seaborn is used for graphics purpose\n",
    "sep =\"|\" header=none because 1st row is consisdered as header "
   ]
  },
  {
   "cell_type": "code",
   "execution_count": null,
   "metadata": {},
   "outputs": [],
   "source": [
    "Relative Path:folder name as we read csv files \n",
    "    (\"Downloads/weather_data.csv\")\n",
    "Absolute path: starst from drive like c dive\n",
    "    we sue raw string to get the path form the drive instead if using double slashs "
   ]
  },
  {
   "cell_type": "code",
   "execution_count": null,
   "metadata": {},
   "outputs": [],
   "source": [
    "to see trhe path w eare working \n",
    "import os\n",
    "os.getcwd()\n",
    "os.chdir(\"directory path\")\n"
   ]
  },
  {
   "cell_type": "code",
   "execution_count": null,
   "metadata": {},
   "outputs": [],
   "source": [
    "Misiing avlues:\n",
    "    cannot delete the vdata \n",
    "    for client it is importnat\n",
    "    2 types \n",
    "    pandas library\n",
    "    scikit learn\n",
    "    pandas have\n",
    "    dropna\n",
    "    fillna\n",
    "    interpolate\n",
    "    scikit "
   ]
  },
  {
   "cell_type": "code",
   "execution_count": null,
   "metadata": {},
   "outputs": [],
   "source": [
    "parse date to connvert string into date\n",
    "f"
   ]
  },
  {
   "cell_type": "code",
   "execution_count": null,
   "metadata": {},
   "outputs": [],
   "source": [
    "fillna(pass the value ) eg fillna(0) empty value sa nd nan"
   ]
  },
  {
   "cell_type": "code",
   "execution_count": null,
   "metadata": {},
   "outputs": [],
   "source": [
    "ffill=forward fill\n",
    "data.fillna(method=\"ffill\")\n",
    "forwarding previous value to the next values\n",
    "backword fill works the same bt works form backword\n",
    "axis parameter \n",
    "axis=columns\n",
    "to move forward or backward with columns\n"
   ]
  },
  {
   "cell_type": "raw",
   "metadata": {},
   "source": [
    "interpolate\n",
    "to assign with guess values\n",
    "from before nd previous values\n",
    "dropna\n",
    "we cannot replace the row/column drop aftr used"
   ]
  },
  {
   "cell_type": "code",
   "execution_count": null,
   "metadata": {},
   "outputs": [],
   "source": [
    "how =all it drops the complete row\n",
    "how=any  it drops atleast one nan is present"
   ]
  },
  {
   "cell_type": "code",
   "execution_count": null,
   "metadata": {},
   "outputs": [],
   "source": [
    "imputer imputes the missing data\n",
    "fits then transforms\n",
    "it worjs nly on missing values whicjh are numerical\n",
    "not on categorical data\n",
    "axis=0# row wise one by one in the respctive column\n",
    ": # all rows"
   ]
  },
  {
   "cell_type": "code",
   "execution_count": null,
   "metadata": {},
   "outputs": [],
   "source": [
    "in ml:\n",
    "    we shouldnmt have relation blw input and another input\n",
    "    all input should ne independent \n",
    "    multi collinearity"
   ]
  },
  {
   "cell_type": "code",
   "execution_count": null,
   "metadata": {},
   "outputs": [],
   "source": [
    "categorival data is encoded into dummy varialbles by albel encoder\n",
    "2 categories 0 and 1"
   ]
  },
  {
   "cell_type": "code",
   "execution_count": null,
   "metadata": {},
   "outputs": [],
   "source": [
    "whether it success at what reate  we use pliting of data\n",
    "we split set into training set 80\n",
    "and \n",
    "test set 20\n",
    "we build model on training set\n",
    "we test performace on test set\n"
   ]
  },
  {
   "cell_type": "code",
   "execution_count": null,
   "metadata": {},
   "outputs": [],
   "source": [
    "normalize\n",
    "sclae \n",
    "and \n",
    "standarize\n",
    "all values will be btwn 0 and 1\n",
    "even if there are greater in number "
   ]
  },
  {
   "cell_type": "code",
   "execution_count": null,
   "metadata": {},
   "outputs": [],
   "source": []
  },
  {
   "cell_type": "code",
   "execution_count": null,
   "metadata": {},
   "outputs": [],
   "source": []
  }
 ],
 "metadata": {
  "kernelspec": {
   "display_name": "Python 3",
   "language": "python",
   "name": "python3"
  },
  "language_info": {
   "codemirror_mode": {
    "name": "ipython",
    "version": 3
   },
   "file_extension": ".py",
   "mimetype": "text/x-python",
   "name": "python",
   "nbconvert_exporter": "python",
   "pygments_lexer": "ipython3",
   "version": "3.7.3"
  }
 },
 "nbformat": 4,
 "nbformat_minor": 2
}
