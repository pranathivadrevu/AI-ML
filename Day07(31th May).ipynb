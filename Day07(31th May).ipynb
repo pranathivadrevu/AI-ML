{
 "cells": [
  {
   "cell_type": "markdown",
   "metadata": {},
   "source": [
    "### How many runs of  Dhoni  On 4/23/2008  Chennai Super Kings vs Mumbai Indians Match ( Use Oops concepts)\n",
    "\n",
    "* Datasets: \n",
    "* Match.csv => Match details (match id , teams, location etc) \n",
    "* Player.csv => Player Details (player id, name,team name, etc)\n",
    "* Ball_By_Ball => Ball to ball details (match id , striker, runs, over id, ball id etc)\n"
   ]
  },
  {
   "cell_type": "code",
   "execution_count": 5,
   "metadata": {},
   "outputs": [
    {
     "data": {
      "text/plain": [
       "30"
      ]
     },
     "execution_count": 5,
     "metadata": {},
     "output_type": "execute_result"
    }
   ],
   "source": [
    "import pandas as pd\n",
    "import numpy as np\n",
    "class csk():\n",
    "    def dhoni():\n",
    "        df=pd.read_csv('DataFiles/Player.csv')\n",
    "        for row in df.values:\n",
    "            if(row[2]=='MS Dhoni'):\n",
    "                return row[1]\n",
    "    def date():\n",
    "        df=pd.read_csv('DataFiles/Match.csv')\n",
    "        for row in df.values:\n",
    "            if(row[4]=='4/23/2008'):\n",
    "                return row[1]       \n",
    "    def runs():\n",
    "        df=pd.read_csv('DataFiles/Ball_By_Ball.csv')\n",
    "        mid=csk.date()\n",
    "        did=csk.dhoni()\n",
    "        sum1=0\n",
    "        for row in df.values:\n",
    "            if(mid==row[0])and(did==row[29]):\n",
    "                sum1=sum1+row[8]\n",
    "        return sum1\n",
    "                \n",
    "csk.runs()      "
   ]
  },
  {
   "cell_type": "markdown",
   "metadata": {},
   "source": [
    "### 4/23/2008  Chennai Super Kings vs Mumbai Indians Match\n",
    "* Plot a bar graph for all the players in the   Mumbai Indians  team\n"
   ]
  },
  {
   "cell_type": "code",
   "execution_count": 48,
   "metadata": {},
   "outputs": [
    {
     "data": {
      "image/png": "[encoded data removed]",
      "text/plain": [
       "<Figure size 432x288 with 1 Axes>"
      ]
     },
     "metadata": {
      "needs_background": "light"
     },
     "output_type": "display_data"
    }
   ],
   "source": [
    "import pandas as pd\n",
    "import numpy as np\n",
    "import matplotlib.pyplot as plotter\n",
    "class mi():\n",
    "    def date():\n",
    "        df=pd.read_csv('DataFiles/Match.csv')\n",
    "        for row in df.values:\n",
    "            if(row[4]=='4/23/2008'):\n",
    "                return row[1]   # Return MATCHID\n",
    "    def playid():\n",
    "        df=pd.read_csv('DataFiles/Player_match.csv')\n",
    "        mid=mi.date()\n",
    "        playid=[]\n",
    "        for row in df.values:\n",
    "            if(mid==row[2]) and (row[10]=='Mumbai Indians'):\n",
    "                playid.append(row[3])   # Return Playerids \n",
    "        return playid\n",
    "    def miruns():\n",
    "        df=pd.read_csv('DataFiles/Ball_by_Ball.csv')\n",
    "        sid=[]\n",
    "        sid=mi.playid() \n",
    "        mid=mi.date()\n",
    "        run=[]\n",
    "        for i in sid:\n",
    "            sum1=0\n",
    "            for row in df.values:\n",
    "                if(i==row[29]) and (mid==row[0]): # here player-id is compared with striker id in row [29]\n",
    "                    sum1=sum1+row[8]  \n",
    "            run.append(sum1)\n",
    "        return run\n",
    "    def playersname():\n",
    "        df=pd.read_csv('DataFiles/Player_match.csv')\n",
    "        mid=mi.date()\n",
    "        playername=[]\n",
    "        for row in df.values:\n",
    "            if(mid==row[2]) and (row[10]=='Mumbai Indians'):\n",
    "                playername.append(row[4])   # getting player names using matchid and Mumabi indians\n",
    "        return playername\n",
    "    def bargraph():\n",
    "        x=mi.playersname()\n",
    "        y=mi.miruns()\n",
    "        plotter.xticks(rotation=60)  # to tilt the labels in x axis \n",
    "        width=1/2\n",
    "        plotter.title(\"MUMBAI INDIANS EACH PLAYER RUNS\") # to mention a title for bar graph\n",
    "        plotter.bar(x,y,width,color='green')\n",
    "        plotter.show()\n",
    "    \n",
    "        \n",
    "mi.bargraph()"
   ]
  },
  {
   "cell_type": "code",
   "execution_count": null,
   "metadata": {},
   "outputs": [],
   "source": []
  }
 ],
 "metadata": {
  "kernelspec": {
   "display_name": "Python 3",
   "language": "python",
   "name": "python3"
  },
  "language_info": {
   "codemirror_mode": {
    "name": "ipython",
    "version": 3
   },
   "file_extension": ".py",
   "mimetype": "text/x-python",
   "name": "python",
   "nbconvert_exporter": "python",
   "pygments_lexer": "ipython3",
   "version": "3.7.3"
  }
 },
 "nbformat": 4,
 "nbformat_minor": 2
}
